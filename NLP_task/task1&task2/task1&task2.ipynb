{
 "cells": [
  {
   "cell_type": "code",
   "execution_count": 1,
   "metadata": {
    "collapsed": true
   },
   "outputs": [],
   "source": [
    "import pandas as pd\n",
    "train_df = pd.read_csv('train_set.csv', sep='\\t', nrows=100)\n",
    "train_df['word'] = train_df['text'].apply(lambda x: len(x.split(' ')))\n"
   ]
  },
  {
   "cell_type": "code",
   "execution_count": 2,
   "outputs": [
    {
     "data": {
      "text/plain": "    label                                               text  word\n0       2  2967 6758 339 2021 1854 3731 4109 3792 4149 15...  1057\n1      11  4464 486 6352 5619 2465 4802 1452 3137 5778 54...   486\n2       3  7346 4068 5074 3747 5681 6093 1777 2226 7354 6...   764\n3       2  7159 948 4866 2109 5520 2490 211 3956 5520 549...  1570\n4       3  3646 3055 3055 2490 4659 6065 3370 5814 2465 5...   307\n..    ...                                                ...   ...\n95      7  6065 3370 1519 499 7157 5620 3317 1679 3270 12...  1438\n96      1  7256 134 7539 7543 3137 3335 2695 669 3068 333...   136\n97      2  7160 5087 2400 4411 7044 1519 7039 2265 408 67...  2159\n98      2  507 6981 2999 62 3080 6704 5310 2400 4411 1099...  1190\n99      4  3870 3641 6248 913 1866 7495 3648 5370 4333 45...   199\n\n[100 rows x 3 columns]",
      "text/html": "<div>\n<style scoped>\n    .dataframe tbody tr th:only-of-type {\n        vertical-align: middle;\n    }\n\n    .dataframe tbody tr th {\n        vertical-align: top;\n    }\n\n    .dataframe thead th {\n        text-align: right;\n    }\n</style>\n<table border=\"1\" class=\"dataframe\">\n  <thead>\n    <tr style=\"text-align: right;\">\n      <th></th>\n      <th>label</th>\n      <th>text</th>\n      <th>word</th>\n    </tr>\n  </thead>\n  <tbody>\n    <tr>\n      <th>0</th>\n      <td>2</td>\n      <td>2967 6758 339 2021 1854 3731 4109 3792 4149 15...</td>\n      <td>1057</td>\n    </tr>\n    <tr>\n      <th>1</th>\n      <td>11</td>\n      <td>4464 486 6352 5619 2465 4802 1452 3137 5778 54...</td>\n      <td>486</td>\n    </tr>\n    <tr>\n      <th>2</th>\n      <td>3</td>\n      <td>7346 4068 5074 3747 5681 6093 1777 2226 7354 6...</td>\n      <td>764</td>\n    </tr>\n    <tr>\n      <th>3</th>\n      <td>2</td>\n      <td>7159 948 4866 2109 5520 2490 211 3956 5520 549...</td>\n      <td>1570</td>\n    </tr>\n    <tr>\n      <th>4</th>\n      <td>3</td>\n      <td>3646 3055 3055 2490 4659 6065 3370 5814 2465 5...</td>\n      <td>307</td>\n    </tr>\n    <tr>\n      <th>...</th>\n      <td>...</td>\n      <td>...</td>\n      <td>...</td>\n    </tr>\n    <tr>\n      <th>95</th>\n      <td>7</td>\n      <td>6065 3370 1519 499 7157 5620 3317 1679 3270 12...</td>\n      <td>1438</td>\n    </tr>\n    <tr>\n      <th>96</th>\n      <td>1</td>\n      <td>7256 134 7539 7543 3137 3335 2695 669 3068 333...</td>\n      <td>136</td>\n    </tr>\n    <tr>\n      <th>97</th>\n      <td>2</td>\n      <td>7160 5087 2400 4411 7044 1519 7039 2265 408 67...</td>\n      <td>2159</td>\n    </tr>\n    <tr>\n      <th>98</th>\n      <td>2</td>\n      <td>507 6981 2999 62 3080 6704 5310 2400 4411 1099...</td>\n      <td>1190</td>\n    </tr>\n    <tr>\n      <th>99</th>\n      <td>4</td>\n      <td>3870 3641 6248 913 1866 7495 3648 5370 4333 45...</td>\n      <td>199</td>\n    </tr>\n  </tbody>\n</table>\n<p>100 rows × 3 columns</p>\n</div>"
     },
     "execution_count": 2,
     "metadata": {},
     "output_type": "execute_result"
    }
   ],
   "source": [
    "train_df\n"
   ],
   "metadata": {
    "collapsed": false,
    "pycharm": {
     "name": "#%%\n"
    }
   }
  },
  {
   "cell_type": "code",
   "execution_count": 3,
   "outputs": [
    {
     "data": {
      "text/plain": "0     1057\n1      486\n2      764\n3     1570\n4      307\n      ... \n95    1438\n96     136\n97    2159\n98    1190\n99     199\nName: word, Length: 100, dtype: int64"
     },
     "execution_count": 3,
     "metadata": {},
     "output_type": "execute_result"
    }
   ],
   "source": [
    "train_df[\"word\"]"
   ],
   "metadata": {
    "collapsed": false,
    "pycharm": {
     "name": "#%%\n"
    }
   }
  },
  {
   "cell_type": "code",
   "execution_count": 9,
   "outputs": [
    {
     "data": {
      "text/plain": "872.32"
     },
     "execution_count": 9,
     "metadata": {},
     "output_type": "execute_result"
    }
   ],
   "source": [
    "# 平均字符个数\n",
    "sum_word = 0\n",
    "for i in train_df[\"word\"]:\n",
    "    sum_word += i\n",
    "avg_word = sum_word / len(train_df[\"word\"])\n",
    "avg_word"
   ],
   "metadata": {
    "collapsed": false,
    "pycharm": {
     "name": "#%%\n"
    }
   }
  },
  {
   "cell_type": "code",
   "execution_count": 26,
   "outputs": [
    {
     "data": {
      "text/plain": "{0: '1096.54',\n 1: '721.56',\n 2: '1104.63',\n 3: '512.17',\n 4: '329.12',\n 5: '1516.67',\n 6: '2214.20',\n 7: '1012.00',\n 8: '435.67',\n 9: '565.67',\n 10: '1177.67',\n 11: '425.00',\n 12: '374.00',\n 13: '131.00'}"
     },
     "execution_count": 26,
     "metadata": {},
     "output_type": "execute_result"
    }
   ],
   "source": [
    "# 每个种类的\n",
    "df = pd.DataFrame()\n",
    "avg_word = {}\n",
    "for i in range(0,14):\n",
    "    # i = 0\n",
    "    df = train_df[train_df[\"label\"] == i]\n",
    "    sum_word = 0\n",
    "    for j in df[\"word\"]:\n",
    "        sum_word += j\n",
    "    avg_word[i] = \"{:.2f}\".format(sum_word / len(df[\"word\"]))\n",
    "avg_word"
   ],
   "metadata": {
    "collapsed": false,
    "pycharm": {
     "name": "#%%\n"
    }
   }
  },
  {
   "cell_type": "code",
   "execution_count": 27,
   "outputs": [
    {
     "data": {
      "text/plain": "{0: 13,\n 1: 18,\n 2: 19,\n 3: 12,\n 4: 8,\n 5: 3,\n 6: 5,\n 7: 5,\n 8: 3,\n 9: 3,\n 10: 3,\n 11: 5,\n 12: 2,\n 13: 1}"
     },
     "execution_count": 27,
     "metadata": {},
     "output_type": "execute_result"
    }
   ],
   "source": [
    "#统计数据集中类别分布的规律\n",
    "df = pd.DataFrame()\n",
    "class_num = {}\n",
    "for i in range(0,14):\n",
    "    df = train_df[train_df[\"label\"] == i]\n",
    "    class_num[i] = len(df[\"word\"])\n",
    "class_num"
   ],
   "metadata": {
    "collapsed": false,
    "pycharm": {
     "name": "#%%\n"
    }
   }
  },
  {
   "cell_type": "code",
   "execution_count": null,
   "outputs": [],
   "source": [],
   "metadata": {
    "collapsed": false,
    "pycharm": {
     "name": "#%%\n"
    }
   }
  }
 ],
 "metadata": {
  "kernelspec": {
   "display_name": "Python 3",
   "language": "python",
   "name": "python3"
  },
  "language_info": {
   "codemirror_mode": {
    "name": "ipython",
    "version": 2
   },
   "file_extension": ".py",
   "mimetype": "text/x-python",
   "name": "python",
   "nbconvert_exporter": "python",
   "pygments_lexer": "ipython2",
   "version": "2.7.6"
  }
 },
 "nbformat": 4,
 "nbformat_minor": 0
}
